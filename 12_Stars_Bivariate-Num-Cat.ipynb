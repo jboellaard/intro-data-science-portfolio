{
 "cells": [
  {
   "cell_type": "markdown",
   "id": "74264929",
   "metadata": {},
   "source": [
    "# Bivariate Analysis\n",
    "### Numerical vs Categorical"
   ]
  },
  {
   "cell_type": "code",
   "execution_count": 1,
   "id": "6e359066",
   "metadata": {},
   "outputs": [],
   "source": [
    "import pandas as pd\n",
    "import seaborn as sns"
   ]
  },
  {
   "cell_type": "code",
   "execution_count": 2,
   "id": "7c07d174",
   "metadata": {},
   "outputs": [
    {
     "data": {
      "text/html": [
       "<div>\n",
       "<style scoped>\n",
       "    .dataframe tbody tr th:only-of-type {\n",
       "        vertical-align: middle;\n",
       "    }\n",
       "\n",
       "    .dataframe tbody tr th {\n",
       "        vertical-align: top;\n",
       "    }\n",
       "\n",
       "    .dataframe thead th {\n",
       "        text-align: right;\n",
       "    }\n",
       "</style>\n",
       "<table border=\"1\" class=\"dataframe\">\n",
       "  <thead>\n",
       "    <tr style=\"text-align: right;\">\n",
       "      <th></th>\n",
       "      <th>Temperature (K)</th>\n",
       "      <th>Luminosity(L/Lo)</th>\n",
       "      <th>Radius(R/Ro)</th>\n",
       "      <th>Absolute magnitude(Mv)</th>\n",
       "      <th>Star type</th>\n",
       "      <th>Star color</th>\n",
       "      <th>Spectral Class</th>\n",
       "    </tr>\n",
       "  </thead>\n",
       "  <tbody>\n",
       "    <tr>\n",
       "      <th>0</th>\n",
       "      <td>3068</td>\n",
       "      <td>0.002400</td>\n",
       "      <td>0.1700</td>\n",
       "      <td>16.12</td>\n",
       "      <td>Red Dwarf</td>\n",
       "      <td>Red</td>\n",
       "      <td>M</td>\n",
       "    </tr>\n",
       "    <tr>\n",
       "      <th>1</th>\n",
       "      <td>3042</td>\n",
       "      <td>0.000500</td>\n",
       "      <td>0.1542</td>\n",
       "      <td>16.60</td>\n",
       "      <td>Red Dwarf</td>\n",
       "      <td>Red</td>\n",
       "      <td>M</td>\n",
       "    </tr>\n",
       "    <tr>\n",
       "      <th>2</th>\n",
       "      <td>2600</td>\n",
       "      <td>0.000300</td>\n",
       "      <td>0.1020</td>\n",
       "      <td>18.70</td>\n",
       "      <td>Red Dwarf</td>\n",
       "      <td>Red</td>\n",
       "      <td>M</td>\n",
       "    </tr>\n",
       "    <tr>\n",
       "      <th>3</th>\n",
       "      <td>2800</td>\n",
       "      <td>0.000200</td>\n",
       "      <td>0.1600</td>\n",
       "      <td>16.65</td>\n",
       "      <td>Red Dwarf</td>\n",
       "      <td>Red</td>\n",
       "      <td>M</td>\n",
       "    </tr>\n",
       "    <tr>\n",
       "      <th>4</th>\n",
       "      <td>1939</td>\n",
       "      <td>0.000138</td>\n",
       "      <td>0.1030</td>\n",
       "      <td>20.06</td>\n",
       "      <td>Red Dwarf</td>\n",
       "      <td>Red</td>\n",
       "      <td>M</td>\n",
       "    </tr>\n",
       "  </tbody>\n",
       "</table>\n",
       "</div>"
      ],
      "text/plain": [
       "   Temperature (K)  Luminosity(L/Lo)  Radius(R/Ro)  Absolute magnitude(Mv)  \\\n",
       "0             3068          0.002400        0.1700                   16.12   \n",
       "1             3042          0.000500        0.1542                   16.60   \n",
       "2             2600          0.000300        0.1020                   18.70   \n",
       "3             2800          0.000200        0.1600                   16.65   \n",
       "4             1939          0.000138        0.1030                   20.06   \n",
       "\n",
       "   Star type Star color Spectral Class  \n",
       "0  Red Dwarf        Red              M  \n",
       "1  Red Dwarf        Red              M  \n",
       "2  Red Dwarf        Red              M  \n",
       "3  Red Dwarf        Red              M  \n",
       "4  Red Dwarf        Red              M  "
      ]
     },
     "execution_count": 2,
     "metadata": {},
     "output_type": "execute_result"
    }
   ],
   "source": [
    "data = pd.read_csv('star_dataset.csv')\n",
    "data.head()"
   ]
  },
  {
   "cell_type": "markdown",
   "id": "109312b2",
   "metadata": {},
   "source": [
    "#### Radius bij Star type\n",
    "De star types zijn onderverdeeld in categorieën op basis van hun onder andere hun grootte. Ik verwacht dus een significant verschil te zien tussen de verschillende types. "
   ]
  },
  {
   "cell_type": "code",
   "execution_count": 3,
   "id": "7d0c9938",
   "metadata": {},
   "outputs": [
    {
     "data": {
      "text/html": [
       "<div>\n",
       "<style scoped>\n",
       "    .dataframe tbody tr th:only-of-type {\n",
       "        vertical-align: middle;\n",
       "    }\n",
       "\n",
       "    .dataframe tbody tr th {\n",
       "        vertical-align: top;\n",
       "    }\n",
       "\n",
       "    .dataframe thead th {\n",
       "        text-align: right;\n",
       "    }\n",
       "</style>\n",
       "<table border=\"1\" class=\"dataframe\">\n",
       "  <thead>\n",
       "    <tr style=\"text-align: right;\">\n",
       "      <th></th>\n",
       "      <th>Temperature (K)</th>\n",
       "      <th>Luminosity(L/Lo)</th>\n",
       "      <th>Radius(R/Ro)</th>\n",
       "      <th>Absolute magnitude(Mv)</th>\n",
       "    </tr>\n",
       "    <tr>\n",
       "      <th>Star type</th>\n",
       "      <th></th>\n",
       "      <th></th>\n",
       "      <th></th>\n",
       "      <th></th>\n",
       "    </tr>\n",
       "  </thead>\n",
       "  <tbody>\n",
       "    <tr>\n",
       "      <th>White Dwarf</th>\n",
       "      <td>13931.450</td>\n",
       "      <td>0.002434</td>\n",
       "      <td>0.010728</td>\n",
       "      <td>12.582500</td>\n",
       "    </tr>\n",
       "    <tr>\n",
       "      <th>Red Dwarf</th>\n",
       "      <td>2997.950</td>\n",
       "      <td>0.000693</td>\n",
       "      <td>0.110015</td>\n",
       "      <td>17.563500</td>\n",
       "    </tr>\n",
       "    <tr>\n",
       "      <th>Brown Dwarf</th>\n",
       "      <td>3283.825</td>\n",
       "      <td>0.005406</td>\n",
       "      <td>0.348145</td>\n",
       "      <td>12.539975</td>\n",
       "    </tr>\n",
       "    <tr>\n",
       "      <th>Main Sequence</th>\n",
       "      <td>16018.000</td>\n",
       "      <td>32067.386275</td>\n",
       "      <td>4.430300</td>\n",
       "      <td>-0.367425</td>\n",
       "    </tr>\n",
       "    <tr>\n",
       "      <th>Super Giant</th>\n",
       "      <td>15347.850</td>\n",
       "      <td>301816.250000</td>\n",
       "      <td>51.150000</td>\n",
       "      <td>-6.369925</td>\n",
       "    </tr>\n",
       "    <tr>\n",
       "      <th>Hyper Giant</th>\n",
       "      <td>11405.700</td>\n",
       "      <td>309246.525000</td>\n",
       "      <td>1366.897500</td>\n",
       "      <td>-9.654250</td>\n",
       "    </tr>\n",
       "  </tbody>\n",
       "</table>\n",
       "</div>"
      ],
      "text/plain": [
       "               Temperature (K)  Luminosity(L/Lo)  Radius(R/Ro)  \\\n",
       "Star type                                                        \n",
       "White Dwarf          13931.450          0.002434      0.010728   \n",
       "Red Dwarf             2997.950          0.000693      0.110015   \n",
       "Brown Dwarf           3283.825          0.005406      0.348145   \n",
       "Main Sequence        16018.000      32067.386275      4.430300   \n",
       "Super Giant          15347.850     301816.250000     51.150000   \n",
       "Hyper Giant          11405.700     309246.525000   1366.897500   \n",
       "\n",
       "               Absolute magnitude(Mv)  \n",
       "Star type                              \n",
       "White Dwarf                 12.582500  \n",
       "Red Dwarf                   17.563500  \n",
       "Brown Dwarf                 12.539975  \n",
       "Main Sequence               -0.367425  \n",
       "Super Giant                 -6.369925  \n",
       "Hyper Giant                 -9.654250  "
      ]
     },
     "execution_count": 3,
     "metadata": {},
     "output_type": "execute_result"
    }
   ],
   "source": [
    "star_type = 'Star type'\n",
    "radius = 'Radius(R/Ro)'\n",
    "data.groupby(star_type).mean().sort_values(radius)"
   ]
  },
  {
   "cell_type": "code",
   "execution_count": 4,
   "id": "f422440f",
   "metadata": {},
   "outputs": [
    {
     "data": {
      "text/plain": [
       "<AxesSubplot:xlabel='Star type', ylabel='Radius(R/Ro)'>"
      ]
     },
     "execution_count": 4,
     "metadata": {},
     "output_type": "execute_result"
    },
    {
     "data": {
      "image/png": "[encoded data removed]",
      "text/plain": [
       "<Figure size 800x600 with 1 Axes>"
      ]
     },
     "metadata": {},
     "output_type": "display_data"
    }
   ],
   "source": [
    "import matplotlib.pyplot as plt\n",
    "fig, ax = plt.subplots(figsize=(8, 6))\n",
    "sns.barplot(y=radius, x=star_type, data=data, ax=ax, log=True, order=data.groupby(star_type).mean().sort_values(radius).index)"
   ]
  },
  {
   "cell_type": "markdown",
   "id": "f67c9f2e",
   "metadata": {},
   "source": [
    "Zoals verwacht is er een voor elke type een significant verschil in radius, de confidence intervals overlappen niet. "
   ]
  },
  {
   "cell_type": "markdown",
   "id": "261e02a3",
   "metadata": {},
   "source": [
    "#### Radius by Spectral class\n",
    "Binnen een spectral class kunnen meerdere typen sterren vallen (dwarf, main sequence, giant) dus ik verwacht weinig tot geen significante verschillen te zien."
   ]
  },
  {
   "cell_type": "code",
   "execution_count": 5,
   "id": "591bb2da",
   "metadata": {},
   "outputs": [
    {
     "data": {
      "text/html": [
       "<div>\n",
       "<style scoped>\n",
       "    .dataframe tbody tr th:only-of-type {\n",
       "        vertical-align: middle;\n",
       "    }\n",
       "\n",
       "    .dataframe tbody tr th {\n",
       "        vertical-align: top;\n",
       "    }\n",
       "\n",
       "    .dataframe thead th {\n",
       "        text-align: right;\n",
       "    }\n",
       "</style>\n",
       "<table border=\"1\" class=\"dataframe\">\n",
       "  <thead>\n",
       "    <tr style=\"text-align: right;\">\n",
       "      <th></th>\n",
       "      <th>Temperature (K)</th>\n",
       "      <th>Luminosity(L/Lo)</th>\n",
       "      <th>Radius(R/Ro)</th>\n",
       "      <th>Absolute magnitude(Mv)</th>\n",
       "    </tr>\n",
       "    <tr>\n",
       "      <th>Spectral Class</th>\n",
       "      <th></th>\n",
       "      <th></th>\n",
       "      <th></th>\n",
       "      <th></th>\n",
       "    </tr>\n",
       "  </thead>\n",
       "  <tbody>\n",
       "    <tr>\n",
       "      <th>F</th>\n",
       "      <td>8516.823529</td>\n",
       "      <td>1.383960</td>\n",
       "      <td>0.551334</td>\n",
       "      <td>8.611765</td>\n",
       "    </tr>\n",
       "    <tr>\n",
       "      <th>A</th>\n",
       "      <td>9842.368421</td>\n",
       "      <td>49860.247538</td>\n",
       "      <td>135.878422</td>\n",
       "      <td>4.085211</td>\n",
       "    </tr>\n",
       "    <tr>\n",
       "      <th>B</th>\n",
       "      <td>19574.478261</td>\n",
       "      <td>78179.393322</td>\n",
       "      <td>202.022292</td>\n",
       "      <td>3.722609</td>\n",
       "    </tr>\n",
       "    <tr>\n",
       "      <th>O</th>\n",
       "      <td>22294.075000</td>\n",
       "      <td>330564.625000</td>\n",
       "      <td>257.794675</td>\n",
       "      <td>-6.596175</td>\n",
       "    </tr>\n",
       "    <tr>\n",
       "      <th>M</th>\n",
       "      <td>3257.333333</td>\n",
       "      <td>61423.425621</td>\n",
       "      <td>273.894832</td>\n",
       "      <td>8.367829</td>\n",
       "    </tr>\n",
       "    <tr>\n",
       "      <th>K</th>\n",
       "      <td>4499.500000</td>\n",
       "      <td>152000.204167</td>\n",
       "      <td>475.444333</td>\n",
       "      <td>0.267333</td>\n",
       "    </tr>\n",
       "    <tr>\n",
       "      <th>G</th>\n",
       "      <td>6850.000000</td>\n",
       "      <td>229000.000000</td>\n",
       "      <td>1467.000000</td>\n",
       "      <td>-10.070000</td>\n",
       "    </tr>\n",
       "  </tbody>\n",
       "</table>\n",
       "</div>"
      ],
      "text/plain": [
       "                Temperature (K)  Luminosity(L/Lo)  Radius(R/Ro)  \\\n",
       "Spectral Class                                                    \n",
       "F                   8516.823529          1.383960      0.551334   \n",
       "A                   9842.368421      49860.247538    135.878422   \n",
       "B                  19574.478261      78179.393322    202.022292   \n",
       "O                  22294.075000     330564.625000    257.794675   \n",
       "M                   3257.333333      61423.425621    273.894832   \n",
       "K                   4499.500000     152000.204167    475.444333   \n",
       "G                   6850.000000     229000.000000   1467.000000   \n",
       "\n",
       "                Absolute magnitude(Mv)  \n",
       "Spectral Class                          \n",
       "F                             8.611765  \n",
       "A                             4.085211  \n",
       "B                             3.722609  \n",
       "O                            -6.596175  \n",
       "M                             8.367829  \n",
       "K                             0.267333  \n",
       "G                           -10.070000  "
      ]
     },
     "execution_count": 5,
     "metadata": {},
     "output_type": "execute_result"
    }
   ],
   "source": [
    "spectral_class = 'Spectral Class'\n",
    "data.groupby(spectral_class).mean().sort_values(radius)"
   ]
  },
  {
   "cell_type": "code",
   "execution_count": 6,
   "id": "29ac1b23",
   "metadata": {},
   "outputs": [
    {
     "data": {
      "text/plain": [
       "<AxesSubplot:xlabel='Spectral Class', ylabel='Radius(R/Ro)'>"
      ]
     },
     "execution_count": 6,
     "metadata": {},
     "output_type": "execute_result"
    },
    {
     "data": {
      "image/png": "[encoded data removed]",
      "text/plain": [
       "<Figure size 640x480 with 1 Axes>"
      ]
     },
     "metadata": {},
     "output_type": "display_data"
    }
   ],
   "source": [
    "sns.barplot(y=radius, x=spectral_class, data=data, log=True, order=data.groupby(spectral_class).mean().sort_values(radius).index)"
   ]
  },
  {
   "cell_type": "markdown",
   "id": "7773cb22",
   "metadata": {},
   "source": [
    "Zoals ook verwacht zijn er vrijwel geen significante verschillen tussen de stralen van sterren op basis van hun classificatie, behalve F en G. G is vooral omdat er maar één record is met classificatie G. Voor F is er wel een significant verschil, dus er zullen in deze dataset weinig tot geen giants met classificatie F zitten. Het lijkt erop dat in A en K veel kleine sterren zitten en het gemiddelde erg omhoog is gegaan door een aantal grotere sterren. "
   ]
  },
  {
   "cell_type": "code",
   "execution_count": 7,
   "id": "3fb86944",
   "metadata": {},
   "outputs": [
    {
     "data": {
      "text/plain": [
       "Spectral Class  Star type    \n",
       "A               Hyper Giant       2\n",
       "                Main Sequence    10\n",
       "                White Dwarf       7\n",
       "B               Hyper Giant       7\n",
       "                Main Sequence    13\n",
       "                Super Giant       2\n",
       "                White Dwarf      24\n",
       "F               Main Sequence     8\n",
       "                White Dwarf       9\n",
       "G               Hyper Giant       1\n",
       "K               Hyper Giant       2\n",
       "                Main Sequence     4\n",
       "M               Brown Dwarf      40\n",
       "                Hyper Giant      22\n",
       "                Red Dwarf        40\n",
       "                Super Giant       9\n",
       "O               Hyper Giant       6\n",
       "                Main Sequence     5\n",
       "                Super Giant      29\n",
       "Name: Radius(R/Ro), dtype: int64"
      ]
     },
     "execution_count": 7,
     "metadata": {},
     "output_type": "execute_result"
    }
   ],
   "source": [
    "data.groupby([spectral_class, star_type]).count()[radius]"
   ]
  },
  {
   "cell_type": "markdown",
   "id": "bcff2b92",
   "metadata": {},
   "source": [
    "#### Temperature by Star color\n",
    "Aangezien de kleur van een ster afhankelijk is van de temperatuur verwacht ik hier significante verschillen."
   ]
  },
  {
   "cell_type": "code",
   "execution_count": 8,
   "id": "6239d4f8",
   "metadata": {},
   "outputs": [
    {
     "data": {
      "text/html": [
       "<div>\n",
       "<style scoped>\n",
       "    .dataframe tbody tr th:only-of-type {\n",
       "        vertical-align: middle;\n",
       "    }\n",
       "\n",
       "    .dataframe tbody tr th {\n",
       "        vertical-align: top;\n",
       "    }\n",
       "\n",
       "    .dataframe thead th {\n",
       "        text-align: right;\n",
       "    }\n",
       "</style>\n",
       "<table border=\"1\" class=\"dataframe\">\n",
       "  <thead>\n",
       "    <tr style=\"text-align: right;\">\n",
       "      <th></th>\n",
       "      <th>Temperature (K)</th>\n",
       "      <th>Luminosity(L/Lo)</th>\n",
       "      <th>Radius(R/Ro)</th>\n",
       "      <th>Absolute magnitude(Mv)</th>\n",
       "    </tr>\n",
       "    <tr>\n",
       "      <th>Star color</th>\n",
       "      <th></th>\n",
       "      <th></th>\n",
       "      <th></th>\n",
       "      <th></th>\n",
       "    </tr>\n",
       "  </thead>\n",
       "  <tbody>\n",
       "    <tr>\n",
       "      <th>Red</th>\n",
       "      <td>3291.785714</td>\n",
       "      <td>60526.787893</td>\n",
       "      <td>283.529700</td>\n",
       "      <td>8.173384</td>\n",
       "    </tr>\n",
       "    <tr>\n",
       "      <th>Orange</th>\n",
       "      <td>4382.666667</td>\n",
       "      <td>393333.543333</td>\n",
       "      <td>987.958667</td>\n",
       "      <td>-4.190000</td>\n",
       "    </tr>\n",
       "    <tr>\n",
       "      <th>Yellow</th>\n",
       "      <td>5203.250000</td>\n",
       "      <td>0.148770</td>\n",
       "      <td>0.700750</td>\n",
       "      <td>7.898500</td>\n",
       "    </tr>\n",
       "    <tr>\n",
       "      <th>Yellow-White</th>\n",
       "      <td>7609.166667</td>\n",
       "      <td>1.960553</td>\n",
       "      <td>0.776803</td>\n",
       "      <td>6.684167</td>\n",
       "    </tr>\n",
       "    <tr>\n",
       "      <th>White</th>\n",
       "      <td>9579.583333</td>\n",
       "      <td>78542.975191</td>\n",
       "      <td>211.647388</td>\n",
       "      <td>7.486667</td>\n",
       "    </tr>\n",
       "    <tr>\n",
       "      <th>Blue-White</th>\n",
       "      <td>16659.951220</td>\n",
       "      <td>68904.416521</td>\n",
       "      <td>185.800842</td>\n",
       "      <td>1.968268</td>\n",
       "    </tr>\n",
       "    <tr>\n",
       "      <th>Blue</th>\n",
       "      <td>21918.339286</td>\n",
       "      <td>249974.732446</td>\n",
       "      <td>214.802452</td>\n",
       "      <td>-2.382446</td>\n",
       "    </tr>\n",
       "  </tbody>\n",
       "</table>\n",
       "</div>"
      ],
      "text/plain": [
       "              Temperature (K)  Luminosity(L/Lo)  Radius(R/Ro)  \\\n",
       "Star color                                                      \n",
       "Red               3291.785714      60526.787893    283.529700   \n",
       "Orange            4382.666667     393333.543333    987.958667   \n",
       "Yellow            5203.250000          0.148770      0.700750   \n",
       "Yellow-White      7609.166667          1.960553      0.776803   \n",
       "White             9579.583333      78542.975191    211.647388   \n",
       "Blue-White       16659.951220      68904.416521    185.800842   \n",
       "Blue             21918.339286     249974.732446    214.802452   \n",
       "\n",
       "              Absolute magnitude(Mv)  \n",
       "Star color                            \n",
       "Red                         8.173384  \n",
       "Orange                     -4.190000  \n",
       "Yellow                      7.898500  \n",
       "Yellow-White                6.684167  \n",
       "White                       7.486667  \n",
       "Blue-White                  1.968268  \n",
       "Blue                       -2.382446  "
      ]
     },
     "execution_count": 8,
     "metadata": {},
     "output_type": "execute_result"
    }
   ],
   "source": [
    "color = 'Star color'\n",
    "temperature = 'Temperature (K)'\n",
    "data.groupby(color).mean().sort_values(temperature)"
   ]
  },
  {
   "cell_type": "code",
   "execution_count": 9,
   "id": "ca08c287",
   "metadata": {},
   "outputs": [
    {
     "data": {
      "text/plain": [
       "<AxesSubplot:xlabel='Star color', ylabel='Temperature (K)'>"
      ]
     },
     "execution_count": 9,
     "metadata": {},
     "output_type": "execute_result"
    },
    {
     "data": {
      "image/png": "[encoded data removed]",
      "text/plain": [
       "<Figure size 640x480 with 1 Axes>"
      ]
     },
     "metadata": {},
     "output_type": "display_data"
    }
   ],
   "source": [
    "sns.barplot(y=temperature, x=color, data=data, order=data.groupby(color).mean().sort_values(temperature).index)"
   ]
  },
  {
   "cell_type": "markdown",
   "id": "d408471f",
   "metadata": {},
   "source": [
    "Hoewel niet overal een significant verschil is te zien tussen verschillende kleuren, kan je wel duidelijk zien dat de overlap is tussen kleuren die bij elkaar in de buurt liggen op het (licht) kleurenspectrum."
   ]
  }
 ],
 "metadata": {
  "kernelspec": {
   "display_name": "Python 3 (ipykernel)",
   "language": "python",
   "name": "python3"
  },
  "language_info": {
   "codemirror_mode": {
    "name": "ipython",
    "version": 3
   },
   "file_extension": ".py",
   "mimetype": "text/x-python",
   "name": "python",
   "nbconvert_exporter": "python",
   "pygments_lexer": "ipython3",
   "version": "3.9.13"
  }
 },
 "nbformat": 4,
 "nbformat_minor": 5
}
