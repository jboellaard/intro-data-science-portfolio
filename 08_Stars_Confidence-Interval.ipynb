{
 "cells": [
  {
   "cell_type": "markdown",
   "id": "9101cff1",
   "metadata": {},
   "source": [
    "# Confidence interval\n",
    "### Two numerical columns"
   ]
  },
  {
   "cell_type": "code",
   "execution_count": 1,
   "id": "b4858e0b",
   "metadata": {},
   "outputs": [],
   "source": [
    "import pandas as pd\n",
    "import scipy.stats as st"
   ]
  },
  {
   "cell_type": "code",
   "execution_count": 2,
   "id": "ea89ea6c",
   "metadata": {},
   "outputs": [],
   "source": [
    "data = pd.read_csv('star_dataset.csv')"
   ]
  },
  {
   "cell_type": "code",
   "execution_count": 3,
   "id": "673d789b",
   "metadata": {},
   "outputs": [
    {
     "data": {
      "text/html": [
       "<div>\n",
       "<style scoped>\n",
       "    .dataframe tbody tr th:only-of-type {\n",
       "        vertical-align: middle;\n",
       "    }\n",
       "\n",
       "    .dataframe tbody tr th {\n",
       "        vertical-align: top;\n",
       "    }\n",
       "\n",
       "    .dataframe thead th {\n",
       "        text-align: right;\n",
       "    }\n",
       "</style>\n",
       "<table border=\"1\" class=\"dataframe\">\n",
       "  <thead>\n",
       "    <tr style=\"text-align: right;\">\n",
       "      <th></th>\n",
       "      <th>Temperature (K)</th>\n",
       "      <th>Luminosity(L/Lo)</th>\n",
       "      <th>Radius(R/Ro)</th>\n",
       "      <th>Absolute magnitude(Mv)</th>\n",
       "      <th>Star type</th>\n",
       "      <th>Star color</th>\n",
       "      <th>Spectral Class</th>\n",
       "    </tr>\n",
       "  </thead>\n",
       "  <tbody>\n",
       "    <tr>\n",
       "      <th>0</th>\n",
       "      <td>3068</td>\n",
       "      <td>0.002400</td>\n",
       "      <td>0.1700</td>\n",
       "      <td>16.12</td>\n",
       "      <td>Red Dwarf</td>\n",
       "      <td>Red</td>\n",
       "      <td>M</td>\n",
       "    </tr>\n",
       "    <tr>\n",
       "      <th>1</th>\n",
       "      <td>3042</td>\n",
       "      <td>0.000500</td>\n",
       "      <td>0.1542</td>\n",
       "      <td>16.60</td>\n",
       "      <td>Red Dwarf</td>\n",
       "      <td>Red</td>\n",
       "      <td>M</td>\n",
       "    </tr>\n",
       "    <tr>\n",
       "      <th>2</th>\n",
       "      <td>2600</td>\n",
       "      <td>0.000300</td>\n",
       "      <td>0.1020</td>\n",
       "      <td>18.70</td>\n",
       "      <td>Red Dwarf</td>\n",
       "      <td>Red</td>\n",
       "      <td>M</td>\n",
       "    </tr>\n",
       "    <tr>\n",
       "      <th>3</th>\n",
       "      <td>2800</td>\n",
       "      <td>0.000200</td>\n",
       "      <td>0.1600</td>\n",
       "      <td>16.65</td>\n",
       "      <td>Red Dwarf</td>\n",
       "      <td>Red</td>\n",
       "      <td>M</td>\n",
       "    </tr>\n",
       "    <tr>\n",
       "      <th>4</th>\n",
       "      <td>1939</td>\n",
       "      <td>0.000138</td>\n",
       "      <td>0.1030</td>\n",
       "      <td>20.06</td>\n",
       "      <td>Red Dwarf</td>\n",
       "      <td>Red</td>\n",
       "      <td>M</td>\n",
       "    </tr>\n",
       "  </tbody>\n",
       "</table>\n",
       "</div>"
      ],
      "text/plain": [
       "   Temperature (K)  Luminosity(L/Lo)  Radius(R/Ro)  Absolute magnitude(Mv)  \\\n",
       "0             3068          0.002400        0.1700                   16.12   \n",
       "1             3042          0.000500        0.1542                   16.60   \n",
       "2             2600          0.000300        0.1020                   18.70   \n",
       "3             2800          0.000200        0.1600                   16.65   \n",
       "4             1939          0.000138        0.1030                   20.06   \n",
       "\n",
       "   Star type Star color Spectral Class  \n",
       "0  Red Dwarf        Red              M  \n",
       "1  Red Dwarf        Red              M  \n",
       "2  Red Dwarf        Red              M  \n",
       "3  Red Dwarf        Red              M  \n",
       "4  Red Dwarf        Red              M  "
      ]
     },
     "execution_count": 3,
     "metadata": {},
     "output_type": "execute_result"
    }
   ],
   "source": [
    "data.head()"
   ]
  },
  {
   "cell_type": "markdown",
   "id": "46232cee",
   "metadata": {},
   "source": [
    "Er is niet echt een normal distribution te vinden in ongefilterde kolommen, dus ga ik kijken naar waarden gefilterd op hun type of hun kleur (zoals ook in assignment 07 te zien is). "
   ]
  },
  {
   "cell_type": "markdown",
   "id": "38ab6dbf",
   "metadata": {},
   "source": [
    "#### Temperatuur voor rode sterren"
   ]
  },
  {
   "cell_type": "code",
   "execution_count": 4,
   "id": "438deed3",
   "metadata": {},
   "outputs": [
    {
     "data": {
      "text/plain": [
       "<AxesSubplot:ylabel='Frequency'>"
      ]
     },
     "execution_count": 4,
     "metadata": {},
     "output_type": "execute_result"
    },
    {
     "data": {
      "image/png": "[encoded data removed]",
      "text/plain": [
       "<Figure size 640x480 with 1 Axes>"
      ]
     },
     "metadata": {},
     "output_type": "display_data"
    }
   ],
   "source": [
    "filtered_T_data = data[data['Star color'] == 'Red']['Temperature (K)']\n",
    "filtered_T_data.plot(kind='hist')"
   ]
  },
  {
   "cell_type": "code",
   "execution_count": 5,
   "id": "e43d8df6",
   "metadata": {},
   "outputs": [
    {
     "name": "stdout",
     "output_type": "stream",
     "text": [
      "Mean: 3291.785714285714\n",
      "90% confidence: (3214.86458578107, 3368.706842790358)\n",
      "95% confidence: (3199.8916994243323, 3383.679729147096)\n",
      "99% confidence: (3170.245375949639, 3413.3260526217896)\n",
      "99.99% confidence: (3104.5870510336217, 3478.9843775378067)\n"
     ]
    }
   ],
   "source": [
    "print('Mean: ' + str(filtered_T_data.mean()))\n",
    "print('90% confidence: ' + str(st.t.interval(0.9, len(filtered_T_data)-1, loc=filtered_T_data.mean(), scale=st.sem(filtered_T_data))))\n",
    "print('95% confidence: ' + str(st.t.interval(0.95, len(filtered_T_data)-1, loc=filtered_T_data.mean(), scale=st.sem(filtered_T_data))))\n",
    "print('99% confidence: ' + str(st.t.interval(0.99, len(filtered_T_data)-1, loc=filtered_T_data.mean(), scale=st.sem(filtered_T_data))))\n",
    "print('99.99% confidence: ' + str(st.t.interval(0.9999, len(filtered_T_data)-1, loc=filtered_T_data.mean(), scale=st.sem(filtered_T_data))))"
   ]
  },
  {
   "cell_type": "markdown",
   "id": "9af7f242",
   "metadata": {},
   "source": [
    "Het vergroten van de confidence maakt het interval natuurlijk ook groter, aangezien je zekerder wilt zijn dat een waarde die je tegenkomt binnen dit interval ligt. "
   ]
  },
  {
   "cell_type": "code",
   "execution_count": 6,
   "id": "127fde66",
   "metadata": {},
   "outputs": [
    {
     "name": "stdout",
     "output_type": "stream",
     "text": [
      "Count: 11\n",
      "Mean smaller set: 2770.5454545454545\n",
      "95% confidence on a smaller set: (2498.2484610328884, 3042.8424480580206)\n"
     ]
    }
   ],
   "source": [
    "smaller_set = filtered_T_data[:int((len(filtered_T_data)/10))]\n",
    "print('Count: ' + str(len(smaller_set)))\n",
    "print('Mean smaller set: ' + str(smaller_set.mean()))\n",
    "print('95% confidence on a smaller set: ' + str(st.t.interval(0.95, len(smaller_set)-1, loc=smaller_set.mean(), scale=st.sem(smaller_set))))"
   ]
  },
  {
   "cell_type": "markdown",
   "id": "e8d751ff",
   "metadata": {},
   "source": [
    "Naast dat het gemiddelde veranderd is door de kleinere set, is ook de confidence interval groter geworden. Dit is logisch omdat minder waarden minder zekerheid geven dat een waarde binnen dat interval valt. "
   ]
  },
  {
   "cell_type": "markdown",
   "id": "a35567e3",
   "metadata": {},
   "source": [
    "#### Radius voor hyper giants"
   ]
  },
  {
   "cell_type": "code",
   "execution_count": 7,
   "id": "dd81e1e0",
   "metadata": {},
   "outputs": [
    {
     "data": {
      "text/plain": [
       "<AxesSubplot:ylabel='Frequency'>"
      ]
     },
     "execution_count": 7,
     "metadata": {},
     "output_type": "execute_result"
    },
    {
     "data": {
      "image/png": "[encoded data removed]",
      "text/plain": [
       "<Figure size 640x480 with 1 Axes>"
      ]
     },
     "metadata": {},
     "output_type": "display_data"
    }
   ],
   "source": [
    "filtered_R_data = data[data['Star type'] == 'Hyper Giant']['Radius(R/Ro)']\n",
    "filtered_R_data.plot(kind='hist')"
   ]
  },
  {
   "cell_type": "code",
   "execution_count": 8,
   "id": "243c6a92",
   "metadata": {},
   "outputs": [
    {
     "name": "stdout",
     "output_type": "stream",
     "text": [
      "Mean: 1366.8975\n",
      "90% confidence: (1298.8154055460816, 1434.9795944539185)\n",
      "95% confidence: (1285.1650130576531, 1448.629986942347)\n",
      "99% confidence: (1257.4766895198413, 1476.3183104801587)\n",
      "99.99% confidence: (1191.8189402201092, 1541.9760597798909)\n"
     ]
    }
   ],
   "source": [
    "print('Mean: ' + str(filtered_R_data.mean()))\n",
    "print('90% confidence: ' + str(st.t.interval(0.9, len(filtered_R_data)-1, loc=filtered_R_data.mean(), scale=st.sem(filtered_R_data))))\n",
    "print('95% confidence: ' + str(st.t.interval(0.95, len(filtered_R_data)-1, loc=filtered_R_data.mean(), scale=st.sem(filtered_R_data))))\n",
    "print('99% confidence: ' + str(st.t.interval(0.99, len(filtered_R_data)-1, loc=filtered_R_data.mean(), scale=st.sem(filtered_R_data))))\n",
    "print('99.99% confidence: ' + str(st.t.interval(0.9999, len(filtered_R_data)-1, loc=filtered_R_data.mean(), scale=st.sem(filtered_R_data))))"
   ]
  },
  {
   "cell_type": "code",
   "execution_count": 9,
   "id": "b07cc5d8",
   "metadata": {},
   "outputs": [
    {
     "name": "stdout",
     "output_type": "stream",
     "text": [
      "Count: 4\n",
      "Mean smaller set: 1402.75\n",
      "95% confidence on a smaller set: (1055.8746058225681, 1749.6253941774319)\n"
     ]
    }
   ],
   "source": [
    "smaller_set = filtered_R_data[:int((len(filtered_R_data)/10))]\n",
    "print('Count: ' + str(len(smaller_set)))\n",
    "print('Mean smaller set: ' + str(smaller_set.mean()))\n",
    "print('95% confidence on a smaller set: ' + str(st.t.interval(0.95, len(smaller_set)-1, loc=smaller_set.mean(), scale=st.sem(smaller_set))))"
   ]
  }
 ],
 "metadata": {
  "kernelspec": {
   "display_name": "Python 3 (ipykernel)",
   "language": "python",
   "name": "python3"
  },
  "language_info": {
   "codemirror_mode": {
    "name": "ipython",
    "version": 3
   },
   "file_extension": ".py",
   "mimetype": "text/x-python",
   "name": "python",
   "nbconvert_exporter": "python",
   "pygments_lexer": "ipython3",
   "version": "3.9.13"
  }
 },
 "nbformat": 4,
 "nbformat_minor": 5
}
