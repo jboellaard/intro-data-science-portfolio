{
 "cells": [
  {
   "cell_type": "code",
   "execution_count": 2,
   "id": "76678aac",
   "metadata": {},
   "outputs": [],
   "source": [
    "import pandas as pd"
   ]
  },
  {
   "cell_type": "code",
   "execution_count": 16,
   "id": "435ad92c",
   "metadata": {},
   "outputs": [],
   "source": [
    "time_to_school = pd.Series([90,90,75,75,75,40,40,60,15,15,12, 10000])"
   ]
  },
  {
   "cell_type": "code",
   "execution_count": 9,
   "id": "ec702cfb",
   "metadata": {},
   "outputs": [
    {
     "data": {
      "text/plain": [
       "0    90\n",
       "1    90\n",
       "2    75\n",
       "3    75\n",
       "4    75\n",
       "dtype: int64"
      ]
     },
     "execution_count": 9,
     "metadata": {},
     "output_type": "execute_result"
    }
   ],
   "source": [
    "time_to_school.head()"
   ]
  },
  {
   "cell_type": "code",
   "execution_count": 10,
   "id": "6fbb4ddb",
   "metadata": {},
   "outputs": [
    {
     "data": {
      "text/plain": [
       "10        12\n",
       "8         15\n",
       "9         15\n",
       "5         40\n",
       "6         40\n",
       "7         60\n",
       "2         75\n",
       "3         75\n",
       "4         75\n",
       "0         90\n",
       "1         90\n",
       "11    100000\n",
       "dtype: int64"
      ]
     },
     "execution_count": 10,
     "metadata": {},
     "output_type": "execute_result"
    }
   ],
   "source": [
    "time_to_school.sort_values()"
   ]
  },
  {
   "cell_type": "code",
   "execution_count": 11,
   "id": "78faa347",
   "metadata": {},
   "outputs": [
    {
     "data": {
      "text/plain": [
       "8382.25"
      ]
     },
     "execution_count": 11,
     "metadata": {},
     "output_type": "execute_result"
    }
   ],
   "source": [
    "time_to_school.mean()"
   ]
  },
  {
   "cell_type": "code",
   "execution_count": 12,
   "id": "66ec1838",
   "metadata": {},
   "outputs": [
    {
     "data": {
      "text/plain": [
       "67.5"
      ]
     },
     "execution_count": 12,
     "metadata": {},
     "output_type": "execute_result"
    }
   ],
   "source": [
    "time_to_school.median()"
   ]
  },
  {
   "cell_type": "code",
   "execution_count": 13,
   "id": "ae0ba39f",
   "metadata": {},
   "outputs": [
    {
     "data": {
      "text/plain": [
       "100000"
      ]
     },
     "execution_count": 13,
     "metadata": {},
     "output_type": "execute_result"
    }
   ],
   "source": [
    "time_to_school.max()"
   ]
  },
  {
   "cell_type": "code",
   "execution_count": 14,
   "id": "13104175",
   "metadata": {},
   "outputs": [
    {
     "data": {
      "text/plain": [
       "53.36363636363637"
      ]
     },
     "execution_count": 14,
     "metadata": {},
     "output_type": "execute_result"
    }
   ],
   "source": [
    "time_to_school[time_to_school < 120].mean()"
   ]
  },
  {
   "cell_type": "code",
   "execution_count": 18,
   "id": "c0dccfa2",
   "metadata": {},
   "outputs": [
    {
     "data": {
      "text/plain": [
       "<AxesSubplot:ylabel='Frequency'>"
      ]
     },
     "execution_count": 18,
     "metadata": {},
     "output_type": "execute_result"
    },
    {
     "data": {
      "image/png": "[encoded data removed]",
      "text/plain": [
       "<Figure size 640x480 with 1 Axes>"
      ]
     },
     "metadata": {},
     "output_type": "display_data"
    }
   ],
   "source": [
    "time_to_school.plot(kind='hist', bins=4)"
   ]
  }
 ],
 "metadata": {
  "kernelspec": {
   "display_name": "Python 3 (ipykernel)",
   "language": "python",
   "name": "python3"
  },
  "language_info": {
   "codemirror_mode": {
    "name": "ipython",
    "version": 3
   },
   "file_extension": ".py",
   "mimetype": "text/x-python",
   "name": "python",
   "nbconvert_exporter": "python",
   "pygments_lexer": "ipython3",
   "version": "3.9.13"
  }
 },
 "nbformat": 4,
 "nbformat_minor": 5
}
