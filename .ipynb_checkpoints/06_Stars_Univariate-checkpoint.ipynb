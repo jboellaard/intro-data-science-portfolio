{
 "cells": [
  {
   "cell_type": "markdown",
   "id": "3e327278",
   "metadata": {},
   "source": [
    "# Univeriate analysis\n",
    "### Two categorical and two numerical columns"
   ]
  },
  {
   "cell_type": "code",
   "execution_count": 1,
   "id": "e84d057b",
   "metadata": {},
   "outputs": [],
   "source": [
    "import pandas as pd"
   ]
  },
  {
   "cell_type": "code",
   "execution_count": 2,
   "id": "f035e10a",
   "metadata": {},
   "outputs": [],
   "source": [
    "data = pd.read_csv('star_dataset.csv') #from https://www.kaggle.com/datasets/deepu1109/star-dataset"
   ]
  },
  {
   "cell_type": "code",
   "execution_count": 3,
   "id": "258f862b",
   "metadata": {},
   "outputs": [
    {
     "data": {
      "text/html": [
       "<div>\n",
       "<style scoped>\n",
       "    .dataframe tbody tr th:only-of-type {\n",
       "        vertical-align: middle;\n",
       "    }\n",
       "\n",
       "    .dataframe tbody tr th {\n",
       "        vertical-align: top;\n",
       "    }\n",
       "\n",
       "    .dataframe thead th {\n",
       "        text-align: right;\n",
       "    }\n",
       "</style>\n",
       "<table border=\"1\" class=\"dataframe\">\n",
       "  <thead>\n",
       "    <tr style=\"text-align: right;\">\n",
       "      <th></th>\n",
       "      <th>Temperature (K)</th>\n",
       "      <th>Luminosity(L/Lo)</th>\n",
       "      <th>Radius(R/Ro)</th>\n",
       "      <th>Absolute magnitude(Mv)</th>\n",
       "      <th>Star type</th>\n",
       "      <th>Star color</th>\n",
       "      <th>Spectral Class</th>\n",
       "    </tr>\n",
       "  </thead>\n",
       "  <tbody>\n",
       "    <tr>\n",
       "      <th>0</th>\n",
       "      <td>3068</td>\n",
       "      <td>0.002400</td>\n",
       "      <td>0.1700</td>\n",
       "      <td>16.12</td>\n",
       "      <td>Red Dwarf</td>\n",
       "      <td>Red</td>\n",
       "      <td>M</td>\n",
       "    </tr>\n",
       "    <tr>\n",
       "      <th>1</th>\n",
       "      <td>3042</td>\n",
       "      <td>0.000500</td>\n",
       "      <td>0.1542</td>\n",
       "      <td>16.60</td>\n",
       "      <td>Red Dwarf</td>\n",
       "      <td>Red</td>\n",
       "      <td>M</td>\n",
       "    </tr>\n",
       "    <tr>\n",
       "      <th>2</th>\n",
       "      <td>2600</td>\n",
       "      <td>0.000300</td>\n",
       "      <td>0.1020</td>\n",
       "      <td>18.70</td>\n",
       "      <td>Red Dwarf</td>\n",
       "      <td>Red</td>\n",
       "      <td>M</td>\n",
       "    </tr>\n",
       "    <tr>\n",
       "      <th>3</th>\n",
       "      <td>2800</td>\n",
       "      <td>0.000200</td>\n",
       "      <td>0.1600</td>\n",
       "      <td>16.65</td>\n",
       "      <td>Red Dwarf</td>\n",
       "      <td>Red</td>\n",
       "      <td>M</td>\n",
       "    </tr>\n",
       "    <tr>\n",
       "      <th>4</th>\n",
       "      <td>1939</td>\n",
       "      <td>0.000138</td>\n",
       "      <td>0.1030</td>\n",
       "      <td>20.06</td>\n",
       "      <td>Red Dwarf</td>\n",
       "      <td>Red</td>\n",
       "      <td>M</td>\n",
       "    </tr>\n",
       "  </tbody>\n",
       "</table>\n",
       "</div>"
      ],
      "text/plain": [
       "   Temperature (K)  Luminosity(L/Lo)  Radius(R/Ro)  Absolute magnitude(Mv)  \\\n",
       "0             3068          0.002400        0.1700                   16.12   \n",
       "1             3042          0.000500        0.1542                   16.60   \n",
       "2             2600          0.000300        0.1020                   18.70   \n",
       "3             2800          0.000200        0.1600                   16.65   \n",
       "4             1939          0.000138        0.1030                   20.06   \n",
       "\n",
       "   Star type Star color Spectral Class  \n",
       "0  Red Dwarf        Red              M  \n",
       "1  Red Dwarf        Red              M  \n",
       "2  Red Dwarf        Red              M  \n",
       "3  Red Dwarf        Red              M  \n",
       "4  Red Dwarf        Red              M  "
      ]
     },
     "execution_count": 3,
     "metadata": {},
     "output_type": "execute_result"
    }
   ],
   "source": [
    "data.head()"
   ]
  },
  {
   "cell_type": "markdown",
   "id": "8590d0a6",
   "metadata": {},
   "source": [
    "### Categorical"
   ]
  },
  {
   "cell_type": "markdown",
   "id": "41e27ced",
   "metadata": {},
   "source": [
    "#### Star type"
   ]
  },
  {
   "cell_type": "code",
   "execution_count": 4,
   "id": "c8a6f2d6",
   "metadata": {},
   "outputs": [
    {
     "data": {
      "text/plain": [
       "Red Dwarf        40\n",
       "Brown Dwarf      40\n",
       "White Dwarf      40\n",
       "Main Sequence    40\n",
       "Super Giant      40\n",
       "Hyper Giant      40\n",
       "Name: Star type, dtype: int64"
      ]
     },
     "execution_count": 4,
     "metadata": {},
     "output_type": "execute_result"
    }
   ],
   "source": [
    "data['Star type'].value_counts()"
   ]
  },
  {
   "cell_type": "markdown",
   "id": "98b6e1b6",
   "metadata": {},
   "source": [
    "#### Star color"
   ]
  },
  {
   "cell_type": "code",
   "execution_count": 5,
   "id": "6c902509",
   "metadata": {},
   "outputs": [
    {
     "data": {
      "text/plain": [
       "Red             112\n",
       "Blue             56\n",
       "Blue-White       41\n",
       "White            12\n",
       "Yellow-White     12\n",
       "Yellow            4\n",
       "Orange            3\n",
       "Name: Star color, dtype: int64"
      ]
     },
     "execution_count": 5,
     "metadata": {},
     "output_type": "execute_result"
    }
   ],
   "source": [
    "data['Star color'].value_counts()"
   ]
  },
  {
   "cell_type": "code",
   "execution_count": 6,
   "id": "be9e0f9b",
   "metadata": {},
   "outputs": [
    {
     "data": {
      "text/plain": [
       "<AxesSubplot:>"
      ]
     },
     "execution_count": 6,
     "metadata": {},
     "output_type": "execute_result"
    },
    {
     "data": {
      "image/png": "[encoded data removed]",
      "text/plain": [
       "<Figure size 640x480 with 1 Axes>"
      ]
     },
     "metadata": {},
     "output_type": "display_data"
    }
   ],
   "source": [
    "data['Star color'].value_counts(dropna=False).plot(kind='bar')"
   ]
  },
  {
   "cell_type": "markdown",
   "id": "0a28f3d9",
   "metadata": {},
   "source": [
    "#### Spectral class"
   ]
  },
  {
   "cell_type": "code",
   "execution_count": 7,
   "id": "6e92d438",
   "metadata": {},
   "outputs": [
    {
     "data": {
      "text/plain": [
       "M    111\n",
       "B     46\n",
       "O     40\n",
       "A     19\n",
       "F     17\n",
       "K      6\n",
       "G      1\n",
       "Name: Spectral Class, dtype: int64"
      ]
     },
     "execution_count": 7,
     "metadata": {},
     "output_type": "execute_result"
    }
   ],
   "source": [
    "data['Spectral Class'].value_counts()"
   ]
  },
  {
   "cell_type": "code",
   "execution_count": 8,
   "id": "6e67306e",
   "metadata": {},
   "outputs": [
    {
     "data": {
      "text/plain": [
       "<AxesSubplot:>"
      ]
     },
     "execution_count": 8,
     "metadata": {},
     "output_type": "execute_result"
    },
    {
     "data": {
      "image/png": "[encoded data removed]",
      "text/plain": [
       "<Figure size 640x480 with 1 Axes>"
      ]
     },
     "metadata": {},
     "output_type": "display_data"
    }
   ],
   "source": [
    "data['Spectral Class'].value_counts(dropna=False).plot(kind='bar')"
   ]
  },
  {
   "cell_type": "markdown",
   "id": "98f55909",
   "metadata": {},
   "source": [
    "Er lijkt een correlatie te zijn tussen kleur en type, wat we ook zouden verwachten.\n",
    "![star types](http://www.atlasoftheuniverse.com/startype.gif)\n",
    "\n",
    "Interessant is om nu nog te kijken of de waarden van de numerical kolommen ook overeenkomen met wat we verwachten."
   ]
  },
  {
   "cell_type": "code",
   "execution_count": 9,
   "id": "74ed2e4e",
   "metadata": {},
   "outputs": [
    {
     "data": {
      "text/html": [
       "<div>\n",
       "<style scoped>\n",
       "    .dataframe tbody tr th:only-of-type {\n",
       "        vertical-align: middle;\n",
       "    }\n",
       "\n",
       "    .dataframe tbody tr th {\n",
       "        vertical-align: top;\n",
       "    }\n",
       "\n",
       "    .dataframe thead th {\n",
       "        text-align: right;\n",
       "    }\n",
       "</style>\n",
       "<table border=\"1\" class=\"dataframe\">\n",
       "  <thead>\n",
       "    <tr style=\"text-align: right;\">\n",
       "      <th></th>\n",
       "      <th>Temperature (K)</th>\n",
       "      <th>Luminosity(L/Lo)</th>\n",
       "      <th>Radius(R/Ro)</th>\n",
       "      <th>Absolute magnitude(Mv)</th>\n",
       "    </tr>\n",
       "    <tr>\n",
       "      <th>Spectral Class</th>\n",
       "      <th></th>\n",
       "      <th></th>\n",
       "      <th></th>\n",
       "      <th></th>\n",
       "    </tr>\n",
       "  </thead>\n",
       "  <tbody>\n",
       "    <tr>\n",
       "      <th>O</th>\n",
       "      <td>22369.0</td>\n",
       "      <td>245865.00000</td>\n",
       "      <td>57.0000</td>\n",
       "      <td>-6.235</td>\n",
       "    </tr>\n",
       "    <tr>\n",
       "      <th>B</th>\n",
       "      <td>18850.0</td>\n",
       "      <td>0.03450</td>\n",
       "      <td>0.0146</td>\n",
       "      <td>10.365</td>\n",
       "    </tr>\n",
       "    <tr>\n",
       "      <th>A</th>\n",
       "      <td>9030.0</td>\n",
       "      <td>38.00000</td>\n",
       "      <td>2.4870</td>\n",
       "      <td>1.236</td>\n",
       "    </tr>\n",
       "    <tr>\n",
       "      <th>F</th>\n",
       "      <td>7230.0</td>\n",
       "      <td>0.00029</td>\n",
       "      <td>0.0130</td>\n",
       "      <td>12.020</td>\n",
       "    </tr>\n",
       "    <tr>\n",
       "      <th>G</th>\n",
       "      <td>6850.0</td>\n",
       "      <td>229000.00000</td>\n",
       "      <td>1467.0000</td>\n",
       "      <td>-10.070</td>\n",
       "    </tr>\n",
       "    <tr>\n",
       "      <th>K</th>\n",
       "      <td>4406.5</td>\n",
       "      <td>0.49350</td>\n",
       "      <td>1.0030</td>\n",
       "      <td>4.730</td>\n",
       "    </tr>\n",
       "    <tr>\n",
       "      <th>M</th>\n",
       "      <td>3324.0</td>\n",
       "      <td>0.00240</td>\n",
       "      <td>0.2910</td>\n",
       "      <td>13.120</td>\n",
       "    </tr>\n",
       "  </tbody>\n",
       "</table>\n",
       "</div>"
      ],
      "text/plain": [
       "                Temperature (K)  Luminosity(L/Lo)  Radius(R/Ro)  \\\n",
       "Spectral Class                                                    \n",
       "O                       22369.0      245865.00000       57.0000   \n",
       "B                       18850.0           0.03450        0.0146   \n",
       "A                        9030.0          38.00000        2.4870   \n",
       "F                        7230.0           0.00029        0.0130   \n",
       "G                        6850.0      229000.00000     1467.0000   \n",
       "K                        4406.5           0.49350        1.0030   \n",
       "M                        3324.0           0.00240        0.2910   \n",
       "\n",
       "                Absolute magnitude(Mv)  \n",
       "Spectral Class                          \n",
       "O                               -6.235  \n",
       "B                               10.365  \n",
       "A                                1.236  \n",
       "F                               12.020  \n",
       "G                              -10.070  \n",
       "K                                4.730  \n",
       "M                               13.120  "
      ]
     },
     "execution_count": 9,
     "metadata": {},
     "output_type": "execute_result"
    }
   ],
   "source": [
    "groupedByClass = data.groupby('Spectral Class').median()\n",
    "groupedByClass.sort_values('Temperature (K)', ascending=False)"
   ]
  },
  {
   "cell_type": "markdown",
   "id": "f3eddee0",
   "metadata": {},
   "source": [
    "Behalve de temperatuur, lijken de waarden niet helemaal te passen bij wat je zou verwachten van het bovenstaande. De reden hiervoor zie je onderin het bovenstaande plaatje, in een classificatie kunnen meerdere typen sterren zitten, met een vergelijkbare temperatuur maar een hele andere radius en daarmee ook luminosity. \n",
    "\n",
    "Wanneer je de waarden tegenover het type zet, zie je dat de luminosity en radius wel relateren, maar temperatuur geen verband vertoont."
   ]
  },
  {
   "cell_type": "code",
   "execution_count": 10,
   "id": "af000bd5",
   "metadata": {},
   "outputs": [
    {
     "data": {
      "text/html": [
       "<div>\n",
       "<style scoped>\n",
       "    .dataframe tbody tr th:only-of-type {\n",
       "        vertical-align: middle;\n",
       "    }\n",
       "\n",
       "    .dataframe tbody tr th {\n",
       "        vertical-align: top;\n",
       "    }\n",
       "\n",
       "    .dataframe thead th {\n",
       "        text-align: right;\n",
       "    }\n",
       "</style>\n",
       "<table border=\"1\" class=\"dataframe\">\n",
       "  <thead>\n",
       "    <tr style=\"text-align: right;\">\n",
       "      <th></th>\n",
       "      <th>Temperature (K)</th>\n",
       "      <th>Luminosity(L/Lo)</th>\n",
       "      <th>Radius(R/Ro)</th>\n",
       "      <th>Absolute magnitude(Mv)</th>\n",
       "    </tr>\n",
       "    <tr>\n",
       "      <th>Star type</th>\n",
       "      <th></th>\n",
       "      <th></th>\n",
       "      <th></th>\n",
       "      <th></th>\n",
       "    </tr>\n",
       "  </thead>\n",
       "  <tbody>\n",
       "    <tr>\n",
       "      <th>Hyper Giant</th>\n",
       "      <td>3766.0</td>\n",
       "      <td>266500.00000</td>\n",
       "      <td>1352.5000</td>\n",
       "      <td>-9.915</td>\n",
       "    </tr>\n",
       "    <tr>\n",
       "      <th>Super Giant</th>\n",
       "      <td>12821.0</td>\n",
       "      <td>242145.00000</td>\n",
       "      <td>43.5000</td>\n",
       "      <td>-6.235</td>\n",
       "    </tr>\n",
       "    <tr>\n",
       "      <th>Main Sequence</th>\n",
       "      <td>12560.5</td>\n",
       "      <td>738.50000</td>\n",
       "      <td>5.7125</td>\n",
       "      <td>-1.180</td>\n",
       "    </tr>\n",
       "    <tr>\n",
       "      <th>Brown Dwarf</th>\n",
       "      <td>3314.0</td>\n",
       "      <td>0.00315</td>\n",
       "      <td>0.3380</td>\n",
       "      <td>12.605</td>\n",
       "    </tr>\n",
       "    <tr>\n",
       "      <th>Red Dwarf</th>\n",
       "      <td>2935.0</td>\n",
       "      <td>0.00052</td>\n",
       "      <td>0.1060</td>\n",
       "      <td>17.145</td>\n",
       "    </tr>\n",
       "    <tr>\n",
       "      <th>White Dwarf</th>\n",
       "      <td>13380.0</td>\n",
       "      <td>0.00076</td>\n",
       "      <td>0.0102</td>\n",
       "      <td>12.340</td>\n",
       "    </tr>\n",
       "  </tbody>\n",
       "</table>\n",
       "</div>"
      ],
      "text/plain": [
       "               Temperature (K)  Luminosity(L/Lo)  Radius(R/Ro)  \\\n",
       "Star type                                                        \n",
       "Hyper Giant             3766.0      266500.00000     1352.5000   \n",
       "Super Giant            12821.0      242145.00000       43.5000   \n",
       "Main Sequence          12560.5         738.50000        5.7125   \n",
       "Brown Dwarf             3314.0           0.00315        0.3380   \n",
       "Red Dwarf               2935.0           0.00052        0.1060   \n",
       "White Dwarf            13380.0           0.00076        0.0102   \n",
       "\n",
       "               Absolute magnitude(Mv)  \n",
       "Star type                              \n",
       "Hyper Giant                    -9.915  \n",
       "Super Giant                    -6.235  \n",
       "Main Sequence                  -1.180  \n",
       "Brown Dwarf                    12.605  \n",
       "Red Dwarf                      17.145  \n",
       "White Dwarf                    12.340  "
      ]
     },
     "execution_count": 10,
     "metadata": {},
     "output_type": "execute_result"
    }
   ],
   "source": [
    "groupedByType = data.groupby('Star type').median()\n",
    "groupedByType.sort_values('Radius(R/Ro)', ascending=False)"
   ]
  },
  {
   "cell_type": "markdown",
   "id": "eb99a6d1",
   "metadata": {},
   "source": [
    "### Numerical"
   ]
  },
  {
   "cell_type": "markdown",
   "id": "79499391",
   "metadata": {},
   "source": [
    "#### Radius"
   ]
  },
  {
   "cell_type": "code",
   "execution_count": 11,
   "id": "7201c628",
   "metadata": {},
   "outputs": [],
   "source": [
    "radius = 'Radius(R/Ro)'\n",
    "rFilter = data[radius]"
   ]
  },
  {
   "cell_type": "code",
   "execution_count": 12,
   "id": "d9090719",
   "metadata": {},
   "outputs": [
    {
     "name": "stdout",
     "output_type": "stream",
     "text": [
      "Minimum: 0.0084\n",
      "Maximum: 1948.5\n",
      "Mean: 237.15778137500004\n",
      "Median: 0.7625\n",
      "Standard deviation: 517.1557634028478\n"
     ]
    }
   ],
   "source": [
    "print(\"Minimum: \" + str(rFilter.min()))\n",
    "print(\"Maximum: \" + str(rFilter.max()))\n",
    "print(\"Mean: \" + str(rFilter.mean()))\n",
    "print('Median: ' + str(rFilter.median()))\n",
    "print('Standard deviation: ' + str(rFilter.std()))"
   ]
  },
  {
   "cell_type": "code",
   "execution_count": 13,
   "id": "5d08efde",
   "metadata": {},
   "outputs": [
    {
     "data": {
      "text/plain": [
       "<AxesSubplot:>"
      ]
     },
     "execution_count": 13,
     "metadata": {},
     "output_type": "execute_result"
    },
    {
     "data": {
      "image/png": "[encoded data removed]",
      "text/plain": [
       "<Figure size 640x480 with 1 Axes>"
      ]
     },
     "metadata": {},
     "output_type": "display_data"
    }
   ],
   "source": [
    "rFilter.plot(kind='box')"
   ]
  },
  {
   "cell_type": "markdown",
   "id": "07dd4a1b",
   "metadata": {},
   "source": [
    "Er zit hier een vrij groot verschil tussen de mediaan en het gemiddelde. Om een beter beeld te krijgen van de meeste waarden in de dataset kunnen we de outliers uitfilteren, echter doordat de dataset dan steeds minder grote waarden heeft, verplaatst de boxplot steeds verder naar beneden. Ook kan je in de volgende plot zien dat, hoewel er een grote sprong is rond de 100, er geen losstaande waarden zijn die heel erg afwijken, ze omvangen ongeveer 1/5 van de gehele dataset. Dat ze niet in de boxplot worden meegenomen is logisch, omdat die de eerste 3/4 van de dataset beschrijft, waar de laatste kwart is gebaseerd op de afstand van de mediaan tot het getal wat op 3/4 ligt."
   ]
  },
  {
   "cell_type": "code",
   "execution_count": 14,
   "id": "e431ec0a",
   "metadata": {
    "scrolled": false
   },
   "outputs": [
    {
     "data": {
      "text/plain": [
       "<AxesSubplot:>"
      ]
     },
     "execution_count": 14,
     "metadata": {},
     "output_type": "execute_result"
    },
    {
     "data": {
      "image/png": "[encoded data removed]",
      "text/plain": [
       "<Figure size 640x480 with 1 Axes>"
      ]
     },
     "metadata": {},
     "output_type": "display_data"
    }
   ],
   "source": [
    "rFilter.sort_values(ignore_index=True).plot()"
   ]
  },
  {
   "cell_type": "markdown",
   "id": "da67b273",
   "metadata": {},
   "source": [
    "Voor een iets duidelijker beeld kunnen we wel de y verplaatsen naar de sprong die we hierboven zien. "
   ]
  },
  {
   "cell_type": "code",
   "execution_count": 15,
   "id": "cd8984f7",
   "metadata": {},
   "outputs": [
    {
     "data": {
      "text/plain": [
       "<AxesSubplot:>"
      ]
     },
     "execution_count": 15,
     "metadata": {},
     "output_type": "execute_result"
    },
    {
     "data": {
      "image/png": "[encoded data removed]",
      "text/plain": [
       "<Figure size 640x480 with 1 Axes>"
      ]
     },
     "metadata": {},
     "output_type": "display_data"
    }
   ],
   "source": [
    "rFilter.plot(kind='box', ylim=[0, 110])"
   ]
  },
  {
   "cell_type": "markdown",
   "id": "210f8cbf",
   "metadata": {},
   "source": [
    "#### Temperature"
   ]
  },
  {
   "cell_type": "code",
   "execution_count": 16,
   "id": "193dd82f",
   "metadata": {},
   "outputs": [],
   "source": [
    "temperature = 'Temperature (K)'\n",
    "tFilter = data[temperature]"
   ]
  },
  {
   "cell_type": "code",
   "execution_count": 17,
   "id": "6e4383b8",
   "metadata": {},
   "outputs": [
    {
     "name": "stdout",
     "output_type": "stream",
     "text": [
      "Minimum: 1939\n",
      "Maximum: 40000\n",
      "Mean: 10497.4625\n",
      "Median: 5776.0\n",
      "Standard deviation: 9552.42503716402\n"
     ]
    }
   ],
   "source": [
    "print(\"Minimum: \" + str(tFilter.min()))\n",
    "print(\"Maximum: \" + str(tFilter.max()))\n",
    "print(\"Mean: \" + str(tFilter.mean()))\n",
    "print('Median: ' + str(tFilter.median()))\n",
    "print('Standard deviation: ' + str(tFilter.std()))"
   ]
  },
  {
   "cell_type": "markdown",
   "id": "ad1b8f89",
   "metadata": {},
   "source": [
    "Ook hier is het gemiddelde een stuk hoger dan de mediaan. Daarnaast kunnen we afleiden dat de temperatuur niet met een rechte lijn gefit kan worden, omdat de standard deviation (gebaseerd of afstand tot het gemiddelde) erg groot is."
   ]
  },
  {
   "cell_type": "code",
   "execution_count": 18,
   "id": "325a02aa",
   "metadata": {},
   "outputs": [
    {
     "data": {
      "text/plain": [
       "<AxesSubplot:>"
      ]
     },
     "execution_count": 18,
     "metadata": {},
     "output_type": "execute_result"
    },
    {
     "data": {
      "image/png": "[encoded data removed]",
      "text/plain": [
       "<Figure size 640x480 with 1 Axes>"
      ]
     },
     "metadata": {},
     "output_type": "display_data"
    }
   ],
   "source": [
    "tFilter.plot(kind='box')"
   ]
  },
  {
   "cell_type": "code",
   "execution_count": 19,
   "id": "885ab2e2",
   "metadata": {},
   "outputs": [
    {
     "data": {
      "text/plain": [
       "<AxesSubplot:>"
      ]
     },
     "execution_count": 19,
     "metadata": {},
     "output_type": "execute_result"
    },
    {
     "data": {
      "image/png": "[encoded data removed]",
      "text/plain": [
       "<Figure size 640x480 with 1 Axes>"
      ]
     },
     "metadata": {},
     "output_type": "display_data"
    }
   ],
   "source": [
    "tFilter.sort_values(ignore_index=True).plot()"
   ]
  },
  {
   "cell_type": "markdown",
   "id": "2ad793d9",
   "metadata": {},
   "source": [
    "Ook hier vind je waarden die buiten het maximum van de boxplot liggen, maar in deze dataset kunnen deze waarden moeilijk als outliers gezien worden. "
   ]
  }
 ],
 "metadata": {
  "kernelspec": {
   "display_name": "Python 3 (ipykernel)",
   "language": "python",
   "name": "python3"
  },
  "language_info": {
   "codemirror_mode": {
    "name": "ipython",
    "version": 3
   },
   "file_extension": ".py",
   "mimetype": "text/x-python",
   "name": "python",
   "nbconvert_exporter": "python",
   "pygments_lexer": "ipython3",
   "version": "3.9.13"
  }
 },
 "nbformat": 4,
 "nbformat_minor": 5
}
